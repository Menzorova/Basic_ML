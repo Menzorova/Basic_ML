{
 "cells": [
  {
   "cell_type": "markdown",
   "metadata": {},
   "source": [
    "# Perceptron"
   ]
  },
  {
   "cell_type": "markdown",
   "metadata": {},
   "source": [
    "Perceptron is the first model that became the progenitors of today's neural networks. It is based on the idea of how our brain perceives information. Neurones in our brains are affected by signals (inputs), each neuron analyzes its signal and then they make a joint conclusion of what the signals are: what we see, hear and etc. The idea in simple way is shown on following picture."
   ]
  },
  {
   "cell_type": "markdown",
   "metadata": {},
   "source": [
    "<img src=\"perceptron.png\">"
   ]
  },
  {
   "cell_type": "markdown",
   "metadata": {},
   "source": [
    "Formulate this idea mathematically. \n",
    "\n",
    "We will build a linear prediction function s.t.:\n",
    "$$ X \\in R^d \\to Y \\in R,$$\n",
    "$$  x \\to <w,x> + w_0.$$\n",
    "    \n",
    "Idea of learning: minimize distance to missclassified examples. \n",
    "Thus, objective function will have form of:\n",
    "\n",
    "$$ L = - \\sum\\limits_{i}y_i \\cdot (x_i \\cdot w + w_0), $$\n",
    "\n",
    "The product under the sum will be negative if the example is classified incorrectly. Thus, the smaller L, the less examples we have classified incorrectly.\n",
    "\n",
    "Perceptron update rule:\n",
    "$$w^{t+1} = w^{t} + \\eta \\nabla L,$$\n",
    "where $\\eta$ is learning rate.\n",
    "\n",
    " $$\\frac{df(L)}{dw_0} = - \\sum_i y_i $$\n",
    " \n",
    " $$\\frac{df(L)}{dw} = - \\sum_i y_i \\cdot x_i $$\n",
    "  \n",
    "Thus, update rule will take form of:\n",
    "$$ w^{t+1}_0 = w^{t}_0 + \\eta \\sum_i y_i $$\n",
    "$$ w^{t+1} = w^{t} + \\eta \\sum_i y_i \\cdot x_i $$\n",
    "\n",
    "One can read the theory in more detail here: [Machine learning fundamentals (p. 28).](http://ama.liglab.fr/~amini/Cours/ML/MLF-MRA-1.pdf) \n",
    "\n",
    "Write the perceptron algorithm, using the obtained update rule."
   ]
  },
  {
   "cell_type": "code",
   "execution_count": 1,
   "metadata": {},
   "outputs": [],
   "source": [
    "import numpy as np\n",
    "from sklearn import datasets \n",
    "\n",
    "%matplotlib inline\n",
    "from matplotlib import pyplot as plt\n",
    "from matplotlib.colors import ListedColormap\n",
    "\n",
    "import warnings\n",
    "warnings.filterwarnings('ignore')"
   ]
  },
  {
   "cell_type": "code",
   "execution_count": 2,
   "metadata": {},
   "outputs": [],
   "source": [
    "class Perceptron():\n",
    "    \n",
    "    def __init__(self, iterations, learning_rate):\n",
    "        \n",
    "        self.iterations = iterations\n",
    "        self.learning_rate = learning_rate\n",
    "        \n",
    "    def fit(self, X, y):\n",
    "        \n",
    "        errors =[]\n",
    "        w = np.random.uniform(0,1,X.shape[1]+1)\n",
    "        self.w = w\n",
    "\n",
    "        for iteration in range(self.iterations):\n",
    "\n",
    "            errors_epoch = 0\n",
    "\n",
    "            for i in range(len(X)):\n",
    "\n",
    "                if (sum(X[i] * w[1:]) + w[0]) * y[i] < 0:\n",
    "\n",
    "                    w[1:] = w[1:] + self.learning_rate * y[i] * X[i]\n",
    "                    w[0] = w[0] + self.learning_rate * y[i]\n",
    "\n",
    "                    errors_epoch += 1\n",
    "\n",
    "            errors.append(errors_epoch)\n",
    "        \n",
    "        return errors\n",
    "    \n",
    "    def predict(self, X):\n",
    "\n",
    "        prediction = np.zeros(len(X))\n",
    "        \n",
    "        for i in range(len(X)):\n",
    "            prediction[i] = np.where(sum(X[i] * self.w[1:]) + self.w[0] >= 0, 1, -1)\n",
    "\n",
    "        return prediction"
   ]
  },
  {
   "cell_type": "markdown",
   "metadata": {},
   "source": [
    "Test the written algorithm on the dataset Iris. Leave two classes (the simpliest perceptron works only with 2 classes)and two features (for convenient data visualization). Labels must be encoded to 1/-1."
   ]
  },
  {
   "cell_type": "code",
   "execution_count": 3,
   "metadata": {},
   "outputs": [
    {
     "data": {
      "image/png": "[encoded data removed]",
      "text/plain": [
       "<Figure size 432x288 with 1 Axes>"
      ]
     },
     "metadata": {
      "needs_background": "light"
     },
     "output_type": "display_data"
    }
   ],
   "source": [
    "# Upload data\n",
    "iris = datasets.load_iris() \n",
    "\n",
    "x = iris.data[:, [2, 3]]\n",
    "y = iris.target\n",
    "\n",
    "# Prepare data for perceptron\n",
    "x, y = x[y!=2], np.where(y[y!=2] == 1, 1, -1)\n",
    "\n",
    "# Visualize data\n",
    "plt.scatter(x[:,0], x[:,1], c=y)     \n",
    "plt.show()"
   ]
  },
  {
   "cell_type": "markdown",
   "metadata": {},
   "source": [
    "As we can see our data linearly separable. \n",
    "\n",
    "Set parameters, which are necessary for the algorithm."
   ]
  },
  {
   "cell_type": "code",
   "execution_count": 13,
   "metadata": {},
   "outputs": [],
   "source": [
    "learning_rate = 0.1\n",
    "iterations = 10\n",
    "\n",
    "perceptron = Perceptron(iterations, learning_rate)\n",
    "\n",
    "errors = perceptron.fit(x, y)"
   ]
  },
  {
   "cell_type": "code",
   "execution_count": 14,
   "metadata": {},
   "outputs": [
    {
     "data": {
      "image/png": "[encoded data removed]",
      "text/plain": [
       "<Figure size 432x288 with 1 Axes>"
      ]
     },
     "metadata": {
      "needs_background": "light"
     },
     "output_type": "display_data"
    }
   ],
   "source": [
    "plt.plot(list(range(iterations)), errors)\n",
    "plt.ylabel('Number of errors')\n",
    "plt.xlabel('Number of epochs')\n",
    "plt.show();"
   ]
  },
  {
   "cell_type": "markdown",
   "metadata": {},
   "source": [
    "As we can see the algorithm converged on 6th epoch.\n",
    "\n",
    "Note that if the data is linearly separable, then the algorithm necessarily converges (Novikov' theorem 1962)."
   ]
  },
  {
   "cell_type": "markdown",
   "metadata": {},
   "source": [
    "Visualize classification results:"
   ]
  },
  {
   "cell_type": "code",
   "execution_count": 15,
   "metadata": {},
   "outputs": [],
   "source": [
    "def separating_hyperplane(classifier, x, y, resolution= 0.02):\n",
    "\n",
    "    markers = ('s', '+', 'o', '^', 'v')\n",
    "    colors = ('red', 'blue', 'lightgreen', 'gray', 'cyan') \n",
    "    cmap = ListedColormap(colors[:len(np.unique(y))])\n",
    "\n",
    "    xl_min, xl_max = x[:, 0].min() - 1, x[:, 0].max() + 1 \n",
    "    x2_min, x2_max = x[:, 1].min() - 1, x[:, 1].max() + 1\n",
    "\n",
    "    xxl, xx2 = np.meshgrid(np.arange(xl_min, xl_max, resolution), np.arange(x2_min, x2_max, resolution))\n",
    "\n",
    "    Z = classifier.predict(np.array([xxl.ravel(), xx2.ravel()]).T)\n",
    "    Z = Z.reshape(xxl.shape)\n",
    "    plt.contourf(xxl, xx2, Z, alpha=0.4 , cmap=cmap) \n",
    "\n",
    "    plt.xlim(xxl.min(), xxl.max()) \n",
    "    plt.ylim(xx2.min(), xx2.max())\n",
    "\n",
    "    for idx, cl in enumerate(np.unique(y)):\n",
    "        plt.scatter(x=x[y == cl, 0], y=x[y == cl, 1], alpha=0.8, c=np.expand_dims(np.asarray(cmap(idx)), axis=0),\n",
    "        marker=markers[idx], label=cl)"
   ]
  },
  {
   "cell_type": "code",
   "execution_count": 16,
   "metadata": {},
   "outputs": [
    {
     "data": {
      "image/png": "[encoded data removed]",
      "text/plain": [
       "<Figure size 432x288 with 1 Axes>"
      ]
     },
     "metadata": {
      "needs_background": "light"
     },
     "output_type": "display_data"
    }
   ],
   "source": [
    "separating_hyperplane(perceptron, x, y)"
   ]
  },
  {
   "cell_type": "markdown",
   "metadata": {},
   "source": [
    "Here planes show classification results  and marks show true labels. As you can see all examples are classified correctly."
   ]
  }
 ],
 "metadata": {
  "kernelspec": {
   "display_name": "Python 3",
   "language": "python",
   "name": "python3"
  },
  "language_info": {
   "codemirror_mode": {
    "name": "ipython",
    "version": 3
   },
   "file_extension": ".py",
   "mimetype": "text/x-python",
   "name": "python",
   "nbconvert_exporter": "python",
   "pygments_lexer": "ipython3",
   "version": "3.7.6"
  }
 },
 "nbformat": 4,
 "nbformat_minor": 2
}
