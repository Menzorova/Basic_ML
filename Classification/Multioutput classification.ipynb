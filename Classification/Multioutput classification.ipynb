{
 "cells": [
  {
   "cell_type": "markdown",
   "metadata": {},
   "source": [
    "## 1. Intro\n",
    "\n",
    "There are several ways to get multilabel output:\n",
    "\n",
    "* Binary relevance\n",
    "* Classifier stacking"
   ]
  },
  {
   "cell_type": "markdown",
   "metadata": {},
   "source": [
    "### 1.1 Binary relevance\n",
    "\n",
    "Assume, that all classes are independant. Build $K$ classifiers $b_1(x), ... , b_k(x)$, to predict for 1 sample, if it belongs to class $K$ or not. Final answer will be $a(x) = (b_1(x), \\dots , b_k(x))$."
   ]
  },
  {
   "cell_type": "code",
   "execution_count": 9,
   "metadata": {},
   "outputs": [],
   "source": [
    "import numpy as np\n",
    "from sklearn.datasets import make_classification\n",
    "from sklearn.multioutput import MultiOutputClassifier\n",
    "from sklearn.utils import shuffle\n",
    "\n",
    "X, y1 = make_classification(n_samples=1000, n_features=10, n_informative=5, n_redundant=5, n_classes=3, random_state=1)\n",
    "y2 = shuffle(y1, random_state=1)\n",
    "y3 = shuffle(y1, random_state=2)\n",
    "Y = np.vstack((y1, y2, y3)).T"
   ]
  },
  {
   "cell_type": "code",
   "execution_count": 10,
   "metadata": {},
   "outputs": [],
   "source": [
    "from sklearn.svm import SVC\n",
    "\n",
    "svm = SVC()"
   ]
  },
  {
   "cell_type": "code",
   "execution_count": 12,
   "metadata": {},
   "outputs": [
    {
     "data": {
      "text/plain": [
       "array([[1, 0, 1],\n",
       "       [0, 0, 1],\n",
       "       [1, 0, 1],\n",
       "       ...,\n",
       "       [0, 1, 1],\n",
       "       [2, 0, 2],\n",
       "       [1, 0, 0]])"
      ]
     },
     "execution_count": 12,
     "metadata": {},
     "output_type": "execute_result"
    }
   ],
   "source": [
    "multi_target_svc = MultiOutputClassifier(svm, n_jobs=-1)\n",
    "multi_target_svc.fit(X, Y).predict(X)"
   ]
  },
  {
   "cell_type": "markdown",
   "metadata": {},
   "source": [
    "### 1.1 Binary relevance\n",
    "\n",
    "**Idea** Take into account correlation between classes.\n",
    "\n",
    "Separate $X$ into 2 parts $X_1$ and $X_2$. \n",
    "Train $k$ independent classifiers $b_1(x), ... , b_k(x)$ on $X_1$ as in binary relevance method. Predict features from sample $X_2$ and get $X_{2}^{'}$. Train $k$ independent classifiers $a_1(x), ... , a_k(x)$ on $X_{2}^{'}$ as in binary relevance method. \n",
    "\n",
    "Since the results of $a$ are based on forecasts of $b$, then we take into account the interaction between the classes."
   ]
  },
  {
   "cell_type": "code",
   "execution_count": null,
   "metadata": {},
   "outputs": [],
   "source": []
  }
 ],
 "metadata": {
  "kernelspec": {
   "display_name": "Python 3",
   "language": "python",
   "name": "python3"
  },
  "language_info": {
   "codemirror_mode": {
    "name": "ipython",
    "version": 3
   },
   "file_extension": ".py",
   "mimetype": "text/x-python",
   "name": "python",
   "nbconvert_exporter": "python",
   "pygments_lexer": "ipython3",
   "version": "3.7.6"
  }
 },
 "nbformat": 4,
 "nbformat_minor": 2
}
