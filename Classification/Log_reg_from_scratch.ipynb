{
 "cells": [
  {
   "cell_type": "code",
   "execution_count": 8,
   "metadata": {},
   "outputs": [],
   "source": [
    "import numpy as np\n",
    "import pandas as pd\n",
    "\n",
    "import matplotlib.pyplot as plt\n",
    "%matplotlib inline\n",
    "\n",
    "from sklearn.preprocessing import LabelEncoder\n",
    "from sklearn.preprocessing import StandardScaler, add_dummy_feature\n",
    "from sklearn.model_selection import train_test_split\n",
    "\n",
    "from sklearn.metrics import accuracy_score\n",
    "from sklearn.linear_model import LogisticRegression\n",
    "\n",
    "import warnings\n",
    "warnings.simplefilter('ignore')"
   ]
  },
  {
   "cell_type": "markdown",
   "metadata": {},
   "source": [
    "Consider the [Student Performance](http://archive.ics.uci.edu/ml/datasets/Student+Performance) dataset. This dataset contains student demographic, social, school-related features, how many classes they've missed, etc. \n",
    "\n",
    "The goal we give ourselves is to predict whether a student will pass (final grade > 12).\n",
    "\n",
    "We denote $X \\in \\mathcal{M}_{n,d}(\\mathbb{R})$ the feature matrix, containing $n$ samples with $d$ features, and $y \\in \\{-1,1\\}^n$ the label vector where $-1$ encodes `fail` and $1$ encodes `pass`."
   ]
  },
  {
   "cell_type": "code",
   "execution_count": 9,
   "metadata": {},
   "outputs": [],
   "source": [
    "student  = pd.read_csv('data/student-mat.csv')\n",
    "target   = pd.DataFrame(student[\"G3\"])\n",
    "features = student.drop([\"G3\"],axis=1)\n",
    "\n",
    "target = target.applymap(lambda grade: [-1, 1][grade >= 12])\n",
    "\n",
    "numerical_features = features.apply(LabelEncoder().fit_transform)\n",
    "normalised_features = add_dummy_feature(StandardScaler().fit_transform(numerical_features))\n",
    "preprocessed_features = pd.DataFrame(normalised_features , columns=[\"intercept\"] + list(numerical_features.columns) )\n",
    "\n",
    "X_train, X_test, y_train, y_test = train_test_split(np.array(preprocessed_features), np.ravel(target), test_size = 0.25)"
   ]
  },
  {
   "cell_type": "markdown",
   "metadata": {},
   "source": [
    "To prediсt results we will use Logistic regression.\n",
    "\n",
    "Logistic regression consists in finding the parameter $w \\in \\mathbb{R}^d$ that best fits:\n",
    "$$\n",
    "y_i = \\begin{cases}\n",
    "\\phantom{-}1 \\ \\textrm{ if }\\ \\langle x_{i}, w\\rangle \\ge 0 \\\\\n",
    "-1 \\ \\textrm{ if }\\ \\langle x_{i}, w\\rangle < 0 \n",
    "\\end{cases}\n",
    "$$\n",
    "for all the samples $i$ of the training set (where $a_i$ is the $i^{th}$ line of $A$ and $b_i$ the $i^{th}$ element of $b$). To measure this fit, logistic regression chooses the following loss:\n",
    "\n",
    "$$\n",
    "\\textrm{LogisticLoss}(y_i, \\left\\langle x_{i}, w\\right\\rangle ) = \\log \\left(1+\\exp \\left(-y_{i}\\left\\langle x_{i}, w\\right\\rangle\\right)\\right) \n",
    "$$\n",
    "\n",
    "The corresponding optimization problem we will consider is the following:"
   ]
  },
  {
   "cell_type": "markdown",
   "metadata": {},
   "source": [
    "<div style=\"background-color: #eceff1; border-left: 0px solid #78909c; padding: 2em; border-radius: 5px;\"> \n",
    "\n",
    "Minimization of the empirical risk $f$ of the $L_2$-regularized logistic regression model, on the dataset $(X_{\\textrm{train}},y_{\\textrm{train}})$:\n",
    "\n",
    "$$\n",
    "\\begin{aligned}\n",
    "\\textrm{min}_{w\\in \\mathbb{R}^d} \\  f(w) \n",
    "\\ &= \\ \\textrm{min}_{w\\in \\mathbb{R}^d} \\ \\frac{1}{n_{\\textrm{train}}} \\sum_{i=1}^{n_{\\textrm{train}}} f_i(w) \\\\\n",
    "&= \\ \\textrm{min}_{w\\in \\mathbb{R}^d}\\frac{1}{n_{\\textrm{train}}} \\sum_{i=1}^{n_{\\textrm{train}}} \\textrm{LogisticLoss}(y_i, \\left\\langle x_{i}, w\\right\\rangle ) + \\frac{l_2}{2}\\|w\\|^{2}_2 \\\\ \n",
    "&= \\ \\textrm{min}_{w\\in \\mathbb{R}^d}\\frac{1}{n_{\\textrm{train}}} \\sum_{i=1}^{n_{\\textrm{train}}} \\ln(1+\\exp{(-y_i, \\left\\langle x_{i}, w\\right\\rangle)}) + \\frac{l_2}{2}\\|w\\|^{2}_2,\n",
    "\\end{aligned}\n",
    "$$\n",
    "\n",
    "where $l_2 \\ge 0$ is the $L_2$ regularization coefficient.\n",
    "</div>"
   ]
  },
  {
   "cell_type": "markdown",
   "metadata": {},
   "source": [
    "**Where did this objective function come from?**\n",
    "\n",
    "Logistic regression correctly evaluates the probability of belonging of each object to classes.\n",
    "\n",
    "---\n",
    "\n",
    "Assume, that we want to have function, which will evaluate probabilities of the belonging of each object to classes, let it will predict probability of belonging to positive class $p(y=+1|x)$.\n",
    "Thus, we want:\n",
    "$$argmin_{b \\in R} \\frac{1}{n} \\sum\\limits_{i=1}^{n}L(y_i, b) \\approx p(y=+1|x)$$\n",
    "\n",
    "Assume, that algorithm $b(x)$ predict probabilities, then it must be consistent with the samples: probability of $x_i$ with label $y_i$:\n",
    "\n",
    "$$b(x_i)^{[y_i=+1]}(1-b(x_i))^{[y_i=-1]}$$\n",
    "\n",
    "Log-likelihood of sampling:\n",
    "\\begin{equation}\n",
    "- \\sum\\limits_{i=1}^{l}\\left[I\\left(y_i=+1\\right)log\\left(b\\left(x_i\\right)\\right)+I\\left(y_i=-1\\right)log\\left(1-b\\left(x_i\\right)\\right)\\right] (1)\n",
    "\\end{equation}\n",
    "\n",
    "Thus, we will use previous equation as objective function.\n",
    "\n",
    "---\n",
    "\n",
    "**Show, that its optimal answer is $p(y=+1|x)$:**\n",
    "\n",
    "$$E\\left[L(y,b)|x\\right]=E\\left[-I\\left(y_i=+1\\right)log\\left(b\\left(x_i\\right)\\right)-I\\left(y_i=-1\\right)log\\left(1-b\\left(x_i\\right)\\right)\\right|x]$$ \n",
    "$$= -log(b(x))p(y=+1|x) - (1-p(y=+1|x))log(1-b(x))$$\n",
    "\n",
    "Differentiate by $b$:\n",
    "$$\\frac{-p(y=+1|x))}{b}+\\frac{1-p(y=+1|x)}{1-b} = 0 \\to$$\n",
    "$$b = p(y=+1|x)$$\n",
    "\n",
    "---\n",
    "\n",
    "Next, we want the answers of $b(x)$ to lie on the segment $\\left[0,1\\right]$, this can be guaranteed with sigmoid function:\n",
    "$$b(x)=\\sigma(\\langle w,x \\rangle)= \\frac{1}{1+ exp(-\\langle w,x \\rangle)}$$\n",
    "\n",
    "Put this into (1):\n",
    "$$L = \\sum\\limits_{i=1}^{l}log(1+exp(-y_i\\langle w, x_i\\rangle))$$"
   ]
  },
  {
   "cell_type": "markdown",
   "metadata": {},
   "source": [
    "On this we are done with the theory and move on to the code."
   ]
  },
  {
   "cell_type": "code",
   "execution_count": 48,
   "metadata": {},
   "outputs": [],
   "source": [
    "import numpy as np\n",
    "\n",
    "class LogisticRegression:\n",
    "\n",
    "    def __init__(self, l2=0.05, max_iter=100):\n",
    "        \n",
    "        self.l2 = l2\n",
    "        self.max_iter = max_iter\n",
    "\n",
    "    def fit(self, X, y):\n",
    "\n",
    "        n = len(y)\n",
    "\n",
    "        # Smoothness constant\n",
    "        L = 0.25 * max(np.linalg.norm(X,2,axis=1))**2 + self.l2\n",
    "\n",
    "        # Strong convexity constant\n",
    "        mu = self.l2\n",
    "        \n",
    "        # Initialisation of the solver\n",
    "        x0=np.zeros(X.shape[1])\n",
    "        \n",
    "        def grad(w, i=None):\n",
    "   \n",
    "            if i is None: # return batch gradient\n",
    "                output = -y / (1 + np.exp(y * np.dot(X, w)))\n",
    "                output = sum(np.diag(output)) / n @ X\n",
    "                output += self.l2 * w\n",
    "                \n",
    "            else: # return partial gradient associated the datapoint (A[i], b[i])\n",
    "                output = -y[i] / (1 + np.exp(y[i] * np.dot(X[i], w)))\n",
    "                output = output * X[i]\n",
    "                output += self.l2 * w\n",
    "                \n",
    "            return output\n",
    "        \n",
    "        def SGD(x0, grad, max_iter, n, L, mu):\n",
    "            \n",
    "            w = x0\n",
    "            w_tab = np.copy(w)\n",
    "\n",
    "            for k in range(max_iter):\n",
    "                \n",
    "                step_size = 2 / (L + mu * (k + 2))\n",
    "                \n",
    "                idx = np.random.randint(0, n)\n",
    "                w = w - step_size * grad(w, idx)\n",
    "\n",
    "                if k%n == 0: # each completed epoch\n",
    "                    w_tab = np.vstack((w_tab, w))\n",
    "\n",
    "            return w, w_tab\n",
    "\n",
    "        # Last iterate of the optimization, and table of all the iterates\n",
    "        self.coef_, self._coef_tab = SGD(x0, grad, self.max_iter, n, L, mu)\n",
    "        \n",
    "        self._empirical_risk = lambda w: sum(self._logistic_loss(X, y, w))/n \\\n",
    "            + 0.5 * self.l2 * np.linalg.norm(w, 2)**2 \n",
    "\n",
    "\n",
    "    def decision_function(self, X):\n",
    "\n",
    "        return 1.0/(1 + np.exp(-np.dot(X, self.coef_)))\n",
    "\n",
    "    def predict(self, X):\n",
    "\n",
    "        return [[-1, 1][p >= 0.5] for p in self.decision_function(X)]\n",
    "\n",
    "    def score(self, X, y):\n",
    "\n",
    "        return np.sum(self.predict(X) == y)/len(y)\n",
    "\n",
    "    def _logistic_loss(self, X, y, w):\n",
    "        \n",
    "        return np.log(1 + np.exp(-y*np.dot(X, w)))"
   ]
  },
  {
   "cell_type": "code",
   "execution_count": 49,
   "metadata": {},
   "outputs": [
    {
     "data": {
      "text/plain": [
       "0.8585858585858586"
      ]
     },
     "execution_count": 49,
     "metadata": {},
     "output_type": "execute_result"
    }
   ],
   "source": [
    "clf_saga = LogisticRegression(l2=0.01, max_iter=30*len(X_train))\n",
    "clf_saga.fit(X_train, y_train)\n",
    "\n",
    "clf_saga.score(X_test, y_test)"
   ]
  },
  {
   "cell_type": "markdown",
   "metadata": {},
   "source": [
    "Build a learning curve:"
   ]
  },
  {
   "cell_type": "code",
   "execution_count": 50,
   "metadata": {},
   "outputs": [
    {
     "data": {
      "image/png": "[encoded data removed]",
      "text/plain": [
       "<Figure size 432x288 with 1 Axes>"
      ]
     },
     "metadata": {
      "needs_background": "light"
     },
     "output_type": "display_data"
    }
   ],
   "source": [
    "x_tab = clf_saga._coef_tab\n",
    "curve = [clf_saga._empirical_risk(x) for x in x_tab]\n",
    "\n",
    "plt.plot(curve, linewidth=5.0, linestyle=\"-\", label='SGD')\n",
    "plt.grid(True)\n",
    "plt.legend(loc='best')\n",
    "plt.ylabel('Empirical Risk')\n",
    "plt.xlabel('Epochs')\n",
    "plt.title('Learning curves')\n",
    "\n",
    "plt.show()"
   ]
  },
  {
   "cell_type": "code",
   "execution_count": null,
   "metadata": {},
   "outputs": [],
   "source": []
  }
 ],
 "metadata": {
  "kernelspec": {
   "display_name": "Python 3",
   "language": "python",
   "name": "python3"
  },
  "language_info": {
   "codemirror_mode": {
    "name": "ipython",
    "version": 3
   },
   "file_extension": ".py",
   "mimetype": "text/x-python",
   "name": "python",
   "nbconvert_exporter": "python",
   "pygments_lexer": "ipython3",
   "version": "3.7.6"
  }
 },
 "nbformat": 4,
 "nbformat_minor": 2
}
