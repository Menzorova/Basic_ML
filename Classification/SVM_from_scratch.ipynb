{
 "cells": [
  {
   "cell_type": "markdown",
   "metadata": {},
   "source": [
    "# Support Vector Machine (SVM)"
   ]
  },
  {
   "cell_type": "markdown",
   "metadata": {},
   "source": [
    "## 0. Notations\n",
    "\n",
    "* $(x_n, y)_{n=1}^{N}$ - training set\n",
    "* $x_n \\in R^d$ - feature object description\n",
    "* $y$ - class label\n",
    "\n",
    "## 1. Linear separable case with 2 classes\n",
    "\n",
    "Idea of this method is based on assumptions, that if two classes a linear separable, then exists such hyperplane ($\\exists \\text{ } w, b$ - parameters of hyperplane) s.t.\n",
    "\n",
    "$$\\begin{equation*}\n",
    " \\begin{cases}\n",
    "   w^Tx_n+b > 0, y = 1\\\\\n",
    "   w^Tx_n+b < 0, y = - 1\n",
    " \\end{cases}\n",
    "\\end{equation*}$$\n",
    "\n",
    "How can we construct such hyperplane?\n",
    "\n",
    "Define the distance from the hyperplane to the class as minimum distance between the hyperplane and the class object. Let $d_+$ and $d_{-}$ be the distance from hyperplane to the class $1$ and $2$ respectively. Thus, optimal separating hyperplne is defined by following condition:\n",
    "\n",
    "$$max_{w, b}(min(d_{+}, d_{-})).$$\n",
    "\n",
    "Intuitively, the optimal hyperplane must always pass in the middle between classes, then we assume that $d_{-} = d+{+}.$ \n",
    "\n",
    "Note, that optimal hyperplane determined up to measurment scale. Namely, the optimal hyperplane will not change if it is multiplied by some constant: equality $w^Tx_n+b = 0$ remains. Define level lines passing through the nearest objects of classes as:\n",
    "\n",
    "$$\\begin{equation*}\n",
    " \\begin{cases}\n",
    "   w^Tx_n+b = 1 \\\\\n",
    "   w^Tx_n+b = -1\n",
    " \\end{cases}\n",
    "\\end{equation*}$$\n",
    "\n",
    "\n",
    "Consider arbitrary vector $u_1$, which belongs to optimal hyperplane, and $u_2$ - arbitrary vector, which belongs to level line $w^Tx_n+b = 1$:\n",
    "\n",
    "$$\\begin{equation*}\n",
    " \\begin{cases}\n",
    "   w^Tu_1+b = 0 \\\\\n",
    "   w^Tu_2+b = 1 \n",
    " \\end{cases}\n",
    "\\end{equation*}\n",
    "$$\n",
    "\n",
    "\n",
    "$$\\to  w^T(u_2-u_1) = 1 $$\n",
    "\n",
    "$$\\frac{1}{||w||}w^T(u_2-u_1) = pr_w(u_2-u_1) = \\frac{1}{||w||} = d_{-} = d_{+}.$$\n",
    "\n",
    "\n",
    "Thus, task of maximazing distance between to classes can be rewritten as follows:\n",
    "$$\\begin{equation*}\n",
    " \\begin{cases}\n",
    "   \\frac{2}{||w||} \\to max\\\\\n",
    "   y(w^Tx_n+b) \\geq 1 \n",
    " \\end{cases}\n",
    "\\end{equation*}\n",
    "$$\n",
    "\n",
    "Which is equal to:\n",
    "\n",
    "$$\\begin{equation*}\n",
    " \\begin{cases}\n",
    "   \\frac{1}{2} ||w||^2 \\to min\\\\\n",
    "   y(w^Tx_n+b) \\geq 1 \n",
    " \\end{cases}\n",
    "\\end{equation*}\n",
    "$$\n",
    "\n",
    "Adding square doesn't change the optimal solution, but leads to easier convex task.  \n",
    "\n",
    "## 2. Сase of arbitrary data (2 classes)"
   ]
  },
  {
   "cell_type": "markdown",
   "metadata": {},
   "source": [
    "It means, that exist such examples for which inequalities from the previous system of equations may not hold. Then we can make these inequalities softer:\n",
    "\n",
    "$$\\begin{equation*}\n",
    "   y(w^Tx_n+b) \\geq 1 - \\varepsilon_n, n=\\overline{1,N}\n",
    "\\end{equation*}\n",
    "$$\n",
    "where $\\varepsilon_n \\geq 0.$ \n",
    "\n",
    "Object will classify correctly if $d_+$, $d_-$ will lies between 0 and 1, but with penalty."
   ]
  },
  {
   "cell_type": "markdown",
   "metadata": {},
   "source": [
    "Note the difficulty that we have in this case:"
   ]
  },
  {
   "cell_type": "markdown",
   "metadata": {},
   "source": [
    "We want to minimize $\\sum_{n}\\varepsilon_n$, but we want to maximize distance between to classes. These tasks contradict each other. When we maximize distance, $\\sum_{n}\\varepsilon_n$ growths, but when we minimize $\\sum_{n}\\varepsilon_n$ we adjust too much to the dataset and as the result got a small distance between classes. Trade-off in this case will be the following system: "
   ]
  },
  {
   "cell_type": "markdown",
   "metadata": {},
   "source": [
    "$$\\begin{equation*}\n",
    " \\begin{cases}\n",
    "   \\frac{1}{2} ||w||^2  + C \\sum_{n}\\varepsilon_n \\to min\\\\\n",
    "   y(w^Tx_n+b) \\geq 1 - \\varepsilon_n \\\\\n",
    "   \\varepsilon_n \\geq 0, n=\\overline{1,N}\n",
    " \\end{cases}\n",
    "\\end{equation*}\n",
    "$$"
   ]
  },
  {
   "cell_type": "markdown",
   "metadata": {},
   "source": [
    "The grater $C$, the more we adjust to the training sample, the smaller the gap between classes we got."
   ]
  },
  {
   "cell_type": "markdown",
   "metadata": {},
   "source": [
    "## 3. Unconditional minimization"
   ]
  },
  {
   "cell_type": "markdown",
   "metadata": {},
   "source": [
    "In the classification problem, objective function is the upper estimate of the proportion of incorrect answers. Linear and logistic classificators are formulated in this way.\n",
    "\n",
    "Reformulate SVM in this way too.\n",
    "\n",
    "From previous system we get:\n",
    "$$\\begin{equation*}\n",
    " \\begin{cases}\n",
    "   \\varepsilon_i \\geq 1 - (y_i(<w,x_i>+b))\\\\\n",
    "   \\varepsilon_i\\geq 0\n",
    " \\end{cases}\n",
    "\\end{equation*}\n",
    "$$\n",
    "\n",
    "What is equivalently to:\n",
    "\n",
    "$$\\varepsilon_i = max(0, 1-y_i(<w,x_i>+b))$$\n",
    "\n",
    "Finally, we get:\n",
    "\n",
    "$$\\frac{1}{2} ||w||^2  + C \\sum_{n} max(0, 1-y_i(<w,x_i>+b)) \\to \\min_{w,b}$$"
   ]
  },
  {
   "cell_type": "markdown",
   "metadata": {},
   "source": [
    "This problem is not smooth, so solving it is quite difficult. Therefore, the SVM is solved as a problem of conditional minimization."
   ]
  },
  {
   "cell_type": "markdown",
   "metadata": {},
   "source": [
    "## 4. Practice: SVM from scratch"
   ]
  },
  {
   "cell_type": "code",
   "execution_count": 146,
   "metadata": {},
   "outputs": [],
   "source": [
    "import numpy as np\n",
    "import pandas as pd\n",
    "\n",
    "from sklearn.metrics import accuracy_score\n",
    "from sklearn.model_selection import train_test_split\n",
    "import cvxopt\n",
    "import numexpr\n",
    "import scipy\n",
    "import sklearn.datasets as ds\n",
    "\n",
    "\n",
    "import matplotlib.pyplot as plt\n",
    "from matplotlib.colors import ListedColormap"
   ]
  },
  {
   "cell_type": "markdown",
   "metadata": {},
   "source": [
    "Check results on data set Iris"
   ]
  },
  {
   "cell_type": "code",
   "execution_count": 154,
   "metadata": {},
   "outputs": [
    {
     "data": {
      "image/png": "[encoded data removed]",
      "text/plain": [
       "<Figure size 432x288 with 1 Axes>"
      ]
     },
     "metadata": {
      "needs_background": "light"
     },
     "output_type": "display_data"
    }
   ],
   "source": [
    "# Upload data\n",
    "from sklearn import datasets \n",
    "\n",
    "iris = datasets.load_iris() \n",
    "\n",
    "x = iris.data[:, [2, 3]]\n",
    "y = iris.target\n",
    "\n",
    "# Prepare data for perceptron\n",
    "x, y = x[y!=2], np.where(y[y!=2] == 1, 1, -1)\n",
    "\n",
    "# Visualize data\n",
    "plt.scatter(x[:,0], x[:,1], c=y)     \n",
    "plt.show()"
   ]
  },
  {
   "cell_type": "code",
   "execution_count": 155,
   "metadata": {},
   "outputs": [],
   "source": [
    "xl, x_test, yl, y_test = train_test_split(x,y,test_size=0.1,random_state=10)"
   ]
  },
  {
   "cell_type": "markdown",
   "metadata": {},
   "source": [
    "Create SVM with Gaussian Kernel, for optomization will use CVXOPT (https://cvxopt.org/userguide/coneprog.html)."
   ]
  },
  {
   "cell_type": "code",
   "execution_count": 156,
   "metadata": {},
   "outputs": [],
   "source": [
    "class SVM:\n",
    "    \n",
    "    def __init__(self,C: float = 1, gamma = None, threshold=1e-3):\n",
    "        \n",
    "        self.C = C\n",
    "        self.gamma = gamma\n",
    "        self.threshold = threshold\n",
    "        \n",
    "    def X_rbf_kernel(self, X):\n",
    "\n",
    "        X_norm = - self.gamma * np.einsum(\"ij,ij->i\", X, X)\n",
    "        return numexpr.evaluate(\n",
    "            \"exp(A + B + C)\",\n",
    "            dict(\n",
    "                A=X_norm[None, :],\n",
    "                B=X_norm[:, None],\n",
    "                C=scipy.linalg.blas.sgemm(alpha=2.0 * self.gamma, a=X, b=X, trans_b=True),\n",
    "            ),\n",
    "        )\n",
    "    \n",
    "    def fit(self, X, targets):\n",
    "        \n",
    "        N, n_features = np.shape(X)\n",
    "        \n",
    "        if self.gamma is None:\n",
    "            self.gamma = 1 / (np.var(X) * n_features)\n",
    "\n",
    "        K = self.X_rbf_kernel(X)\n",
    "        \n",
    "        \n",
    "        P = targets * targets.transpose() * K\n",
    "        q = -np.ones((N,1))\n",
    "        G = np.concatenate((np.eye(N),-np.eye(N)))\n",
    "        h = np.concatenate((self.C*np.ones((N,1)),np.zeros((N,1))))\n",
    "        A = targets.reshape(1,N)\n",
    "        b = 0.0\n",
    "\n",
    "        sol = cvxopt.solvers.qp(cvxopt.matrix(P),cvxopt.matrix(q),cvxopt.matrix(G),\n",
    "                                cvxopt.matrix(h), cvxopt.matrix(A, tc=\"d\"), cvxopt.matrix(b))\n",
    "        \n",
    "        lambdas = np.array(sol['x'])\n",
    "        self.sv = np.where(lambdas > self.threshold)[0]        \n",
    "        self.nsupport = len(self.sv)\n",
    "        self.X = X[self.sv,:]\n",
    "        self.lambdas = lambdas[self.sv]\n",
    "        self.targets = targets[self.sv]\n",
    "        \n",
    "        self.b = np.sum(self.targets)\n",
    "        for n in range(self.nsupport):\n",
    "            self.b -= np.sum(self.lambdas * self.targets * np.reshape(K[self.sv[n],self.sv], (self.nsupport,1)))\n",
    "        self.b /= len(self.lambdas)\n",
    "       \n",
    "            \n",
    "    def predict(self, target):\n",
    "        \n",
    "        K = np.dot(target, self.X.T)\n",
    "        \n",
    "        for i in range(K.shape[0]):\n",
    "            K[i,:] /= np.linalg.norm(target[i])\n",
    "            \n",
    "        for j in range(K.shape[1]):\n",
    "            K[:, j] /= np.linalg.norm(self.X[j])\n",
    "\n",
    "        self.y = np.zeros((np.shape(target)[0],1))\n",
    "        \n",
    "        for j in range(np.shape(target)[0]):\n",
    "            for i in range(self.nsupport):\n",
    "                \n",
    "                self.y[j] += self.lambdas[i]*self.targets[i]*K[j,i]\n",
    "                \n",
    "            self.y[j] += self.b\n",
    "\n",
    "        return np.sign(self.y).reshape((1,-1))[0]"
   ]
  },
  {
   "cell_type": "code",
   "execution_count": 157,
   "metadata": {},
   "outputs": [],
   "source": [
    "svc = SVM(C=1, gamma=2, threshold=1e-3)"
   ]
  },
  {
   "cell_type": "code",
   "execution_count": 158,
   "metadata": {},
   "outputs": [
    {
     "name": "stdout",
     "output_type": "stream",
     "text": [
      "     pcost       dcost       gap    pres   dres\n",
      " 0: -8.8770e-01 -1.0048e+02  1e+02  2e-16  3e-16\n",
      " 1: -1.7546e+00 -4.7128e+00  3e+00  3e-16  4e-16\n",
      " 2: -1.9907e+00 -2.5593e+00  6e-01  2e-16  2e-16\n",
      " 3: -2.0906e+00 -2.2100e+00  1e-01  3e-16  2e-16\n",
      " 4: -2.1232e+00 -2.1502e+00  3e-02  7e-16  2e-16\n",
      " 5: -2.1301e+00 -2.1362e+00  6e-03  2e-16  2e-16\n",
      " 6: -2.1325e+00 -2.1327e+00  2e-04  2e-16  2e-16\n",
      " 7: -2.1326e+00 -2.1326e+00  6e-06  2e-16  2e-16\n",
      " 8: -2.1326e+00 -2.1326e+00  9e-08  2e-16  2e-16\n",
      "Optimal solution found.\n"
     ]
    }
   ],
   "source": [
    "svc.fit(xl, yl)"
   ]
  },
  {
   "cell_type": "code",
   "execution_count": 159,
   "metadata": {},
   "outputs": [],
   "source": [
    "predictions = svc.predict(x_test)"
   ]
  },
  {
   "cell_type": "code",
   "execution_count": 160,
   "metadata": {},
   "outputs": [
    {
     "data": {
      "text/plain": [
       "0.7"
      ]
     },
     "execution_count": 160,
     "metadata": {},
     "output_type": "execute_result"
    }
   ],
   "source": [
    "accuracy_score(predictions, y_test)"
   ]
  },
  {
   "cell_type": "code",
   "execution_count": null,
   "metadata": {},
   "outputs": [],
   "source": []
  }
 ],
 "metadata": {
  "kernelspec": {
   "display_name": "Python 3",
   "language": "python",
   "name": "python3"
  },
  "language_info": {
   "codemirror_mode": {
    "name": "ipython",
    "version": 3
   },
   "file_extension": ".py",
   "mimetype": "text/x-python",
   "name": "python",
   "nbconvert_exporter": "python",
   "pygments_lexer": "ipython3",
   "version": "3.7.6"
  }
 },
 "nbformat": 4,
 "nbformat_minor": 2
}
