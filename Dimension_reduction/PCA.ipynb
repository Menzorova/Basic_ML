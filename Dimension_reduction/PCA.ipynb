{
 "cells": [
  {
   "cell_type": "markdown",
   "metadata": {},
   "source": [
    "# PCA (Principal component analysis)"
   ]
  },
  {
   "cell_type": "markdown",
   "metadata": {},
   "source": [
    "### Теория"
   ]
  },
  {
   "cell_type": "markdown",
   "metadata": {},
   "source": [
    "**Цель:**\n",
    "* подбор низкоразмерного представления матрицы объекты-признаки с сохранением наибольшего количества информации. Представление ищется в линейном виде, то есть новые признаки - линейная комбинация старых. \n",
    "\n",
    "**Зачем это нужно:**\n",
    "* увеличиение производительности алгоритмо машинного обучения. \n",
    "* борьба с нестабильностью призанков.\n",
    "* визуализация данных."
   ]
  },
  {
   "cell_type": "markdown",
   "metadata": {},
   "source": [
    "**Математическая запись идеи**\n",
    "\n",
    "$f_1, f_2, \\dots{}, f_n$- старые признаки\n",
    "\n",
    "$g_1, f_2, \\dots{}, g_m$- новые признаки, $m << n$\n",
    "\n",
    "Cтарые признаки должны быть линейно восстановимы по новым:\n",
    "\n",
    "$$\\hat{f}_j(x) = \\sum_{s=1}^{m}g_su_{js}$$\n",
    "\n",
    "При этом мы хотим, чтобы восстановление было как можно более точным:\n",
    "\n",
    "$$\\sum_{i=1}^{l} \\sum_{j=1}^{n} (\\hat{f}_j(x_i) - f_j(x_i))^2 \\to \\min$$"
   ]
  },
  {
   "cell_type": "markdown",
   "metadata": {},
   "source": [
    "В матричном виде мы получим следующее выражение:\n",
    "\n",
    "$$||GU^T-F||^2 \\to min, $$\n",
    "где \n",
    "$F \\in R^{l \\times n}$, $G \\in R^{l \\times m}$, $U \\in R^{m \\times m}$."
   ]
  },
  {
   "cell_type": "markdown",
   "metadata": {},
   "source": [
    "**Основная теорема**\n",
    "\n",
    "Если $m << rkF$, то минимум $||GU^T-F||^2$ достигается, когда столбцы U это собственные векторы $F^TF$, соответсвующее $m$ максимальным собственным значениям $\\lambda_1, ... , \\lambda_m$, а $G=FU$.\n",
    "\n",
    "При этом:\n",
    "* $U$ - ортонормированная, $U^TU=I$\n",
    "* $G$ - ортогональная, $G^TG= \\mbox{diag}(\\lambda_1, ... , \\lambda_m)= \\Lambda$\n",
    "* Невязка: $||GU^T-F||^2 = ||F||^2 - tr\\Lambda = \\sum_{j=m+1}^{n}\\lambda_j$"
   ]
  },
  {
   "cell_type": "markdown",
   "metadata": {},
   "source": [
    "При $G = V\\sqrt{\\lambda}$ представление $F=GU^T$ совпадает с сингулярным разложением матрицы $F$."
   ]
  },
  {
   "cell_type": "markdown",
   "metadata": {},
   "source": [
    "**Кратко о сингулярном разложении**\n",
    "\n",
    "Любая прямоугольная матрица $F$ представим в виде: $F = V \\Lambda U^T$.\n",
    "\n",
    "Столбцы матриц $U$ и $V$ называются соответственно левыми и правыми сингулярными векторами, а значения диагонали матрицы $\\Lambda$ называются сингулярными числами.\n",
    "\n",
    "Также можно показать, что столбцы матрицы V являются собственными векторами матрицы $FF^T$, а квадраты сингулярных чисел $\\Lambda=\\mbox{diag}(\\lambda_1,...,\\lambda_r)$ — ее собственными числами. Также столбцы матрицы U являются собственными векторами матрицы $F^TF$, а квадраты сингулярных чисел являются ее собственными числами."
   ]
  },
  {
   "cell_type": "markdown",
   "metadata": {},
   "source": [
    "**Геометрический смысл**"
   ]
  },
  {
   "cell_type": "markdown",
   "metadata": {},
   "source": [
    "Пусть матрице F поставлен в соответствие линейный оператор. \n",
    "\n",
    "Линейный оператор, отображающий элементы пространства в себя представим в виде последовательно выполняемых линейных операторов вращения, растяжения и вращения. ($U, V$ - вращения, $\\Lambda$ - растяжение)\n",
    "\n",
    "Вспомним дополнительно, что образом любого линейного преобразования, примененного к единичной сфере является гиперэллипсоид. Гиперэллипсоид можно определить как поверхность, полученную в результате растяжения единичной сферы вдоль каких-то ортогональных направлений. \n",
    "\n",
    "Пусть тогда $U$ задает единичную сферу, подействовав на нее оператором $A$ мы получим некоторй гиперэллипсоид. Однако этот гиперэллипсоид можно описать и другим образом $V\\Lambda$. $U, V$ - ортогональные матрицы, $\\Lambda$ - длина главных осей гиперэллипсоид. Тогда мы получаем:\n",
    "\n",
    "$$AU=V\\Lambda$$\n",
    "$$A=V\\Lambda U^{-1}=V\\Lambda U^{T}$$\n",
    "\n",
    "**Получается, что сингулярные значения отвечают насколько гиперэллипсоид растянут в пространстве, то есть данные разбросаны вдоль ортогональных направлений. Тогда метод главных компонент избавляется от осей, в которых разброс минимален, то есть которые несут меньше всего информации о данных.**"
   ]
  },
  {
   "cell_type": "markdown",
   "metadata": {},
   "source": [
    "**Практическое применение**\n",
    "* Данные необходимо стандартизовать перед применением алгоритма\n",
    "* Обычно оставляют столько компонент, чтобы сохранялосб 90% объясненной дисперсии."
   ]
  },
  {
   "cell_type": "markdown",
   "metadata": {},
   "source": [
    "### PCA from scratch"
   ]
  },
  {
   "cell_type": "code",
   "execution_count": 14,
   "metadata": {},
   "outputs": [],
   "source": [
    "import pandas as pd\n",
    "import numpy as np\n",
    "from sklearn.model_selection import train_test_split # cross_validation \n",
    "from sklearn.preprocessing import StandardScaler\n",
    "from matplotlib.colors import ListedColormap\n",
    "from sklearn.linear_model import LogisticRegression \n",
    "from sklearn.decomposition import PCA\n",
    "\n",
    "import warnings\n",
    "warnings.filterwarnings('ignore')\n",
    "\n",
    "from matplotlib import pyplot as plt \n",
    "%matplotlib inline"
   ]
  },
  {
   "cell_type": "code",
   "execution_count": 7,
   "metadata": {},
   "outputs": [],
   "source": [
    "data = pd.read_csv('wine.data', header=None)\n",
    "\n",
    "X, y = data.loc[:, 1:].values, data.loc[:, 0].values\n",
    "\n",
    "X_train, X_test, y_train, y_test = train_test_split(X, y, test_size=0.3, random_state=0)\n",
    "\n",
    "sc = StandardScaler()\n",
    "X_train = sc.fit_transform(X_train)\n",
    "X_test = sc.transform(X_test)"
   ]
  },
  {
   "cell_type": "code",
   "execution_count": 8,
   "metadata": {},
   "outputs": [],
   "source": [
    "cov_mat = np.cov(X_train.T)\n",
    "eigen_vals, eigen_vecs = np.linalg.eig(cov_mat) \n",
    "total_sum = sum(eigen_vals)\n",
    "explained_var = [ev/total_sum for ev in sorted(eigen_vals, reverse=True)]\n",
    "cum_sum = np.cumsum(explained_var)"
   ]
  },
  {
   "cell_type": "code",
   "execution_count": 9,
   "metadata": {},
   "outputs": [
    {
     "data": {
      "image/png": "[encoded data removed]",
      "text/plain": [
       "<Figure size 432x288 with 1 Axes>"
      ]
     },
     "metadata": {
      "needs_background": "light"
     },
     "output_type": "display_data"
    }
   ],
   "source": [
    "plt.bar(range(1, X_train.shape[1]+1), explained_var, alpha=0.5, align='center', label='индивидуальная объясненная дисперсия')\n",
    "plt.step(range(1, X_train.shape[1]+1), cum_sum, where='mid', label='кумулятивная объясненная дисперсия')\n",
    "plt.ylabel('Share of explained variance') \n",
    "plt.xlabel('Principal components') \n",
    "plt.legend(loc='best')\n",
    "plt.show()"
   ]
  },
  {
   "cell_type": "code",
   "execution_count": 10,
   "metadata": {},
   "outputs": [],
   "source": [
    "eigen_pairs =[(np.abs(eigen_vals[i]),eigen_vecs[:,i]) for i in range(len(eigen_vals))]\n",
    "eigen_pairs.sort(reverse=True)\n",
    "w = np.hstack((eigen_pairs[0][1][:, np.newaxis], eigen_pairs[1][1][:, np.newaxis]))"
   ]
  },
  {
   "cell_type": "code",
   "execution_count": 11,
   "metadata": {},
   "outputs": [
    {
     "data": {
      "image/png": "[encoded data removed]",
      "text/plain": [
       "<Figure size 432x288 with 1 Axes>"
      ]
     },
     "metadata": {
      "needs_background": "light"
     },
     "output_type": "display_data"
    }
   ],
   "source": [
    "X_train_pca = X_train @ w \n",
    "\n",
    "colors = ['r', 'b', 'g']\n",
    "markers = ['s', 'x', 'o']\n",
    "\n",
    "for l, c, m in zip(np.unique(y_train), colors, markers):\n",
    "    \n",
    "    plt.scatter(X_train_pca[y_train==l, 0], X_train_pca[y_train==l, 1], c=c, label=l, marker=m) \n",
    "plt.xlabel('PC 1')\n",
    "plt.ylabel('PC 2') \n",
    "plt.legend(loc='lower left') \n",
    "plt.show ()"
   ]
  },
  {
   "cell_type": "markdown",
   "metadata": {},
   "source": [
    "### PCA with sklearn"
   ]
  },
  {
   "cell_type": "code",
   "execution_count": 12,
   "metadata": {},
   "outputs": [],
   "source": [
    "def plot_decision_regions (X, y, classifier, resolution=.02) :\n",
    "    # задать генератор маркеров и палитру\n",
    "    markers = ('s', 'x', 'o','^', 'v')\n",
    "    colors = ('red', 'blue', 'lightgreen', 'gray', 'cyan') \n",
    "    cmap = ListedColormap(colors[:len(np.unique(y))])\n",
    "    \n",
    "    # вывести поверхности решений\n",
    "    xl_min, xl_max = X[:, 0].min() - 1, X[:, 0].max() + 1 \n",
    "    x2_min, x2_max = X[:, 1].min() - 1, X[:, 1].max() + 1\n",
    "    xx1, xx2 = np.meshgrid(np.arange(xl_min, xl_max, resolution),\n",
    "    np.arange(x2_min, x2_max, resolution)) \n",
    "    Z = classifier.predict(np.array([xx1.ravel(), xx2.ravel()]).T)\n",
    "    \n",
    "    Z = Z.reshape(xx1.shape)\n",
    "    plt.contourf(xx1, xx2, Z, alpha=0.4, cmap=cmap) \n",
    "    plt.xlim(xx1.min(), xx1.max()) \n",
    "    plt.ylim(xx2.min(), xx2.max())\n",
    "    \n",
    "    # вывести образцы классов\n",
    "    for idx, cl in enumerate(np.unique(y)):\n",
    "        plt.scatter(x=X[y == cl, 0], y=X[y == cl, 1], alpha=0.8, c=cmap(idx), marker=markers[idx], label=cl)"
   ]
  },
  {
   "cell_type": "code",
   "execution_count": 15,
   "metadata": {},
   "outputs": [
    {
     "name": "stderr",
     "output_type": "stream",
     "text": [
      "'c' argument looks like a single numeric RGB or RGBA sequence, which should be avoided as value-mapping will have precedence in case its length matches with 'x' & 'y'.  Please use a 2-D array with a single row if you really want to specify the same RGB or RGBA value for all points.\n",
      "'c' argument looks like a single numeric RGB or RGBA sequence, which should be avoided as value-mapping will have precedence in case its length matches with 'x' & 'y'.  Please use a 2-D array with a single row if you really want to specify the same RGB or RGBA value for all points.\n",
      "'c' argument looks like a single numeric RGB or RGBA sequence, which should be avoided as value-mapping will have precedence in case its length matches with 'x' & 'y'.  Please use a 2-D array with a single row if you really want to specify the same RGB or RGBA value for all points.\n"
     ]
    },
    {
     "data": {
      "image/png": "[encoded data removed]",
      "text/plain": [
       "<Figure size 432x288 with 1 Axes>"
      ]
     },
     "metadata": {
      "needs_background": "light"
     },
     "output_type": "display_data"
    }
   ],
   "source": [
    "pca = PCA(n_components=2)\n",
    "lr = LogisticRegression()\n",
    "\n",
    "X_train_pca = pca.fit_transform(X_train)\n",
    "X_test_pca = pca.transform(X_test)\n",
    "\n",
    "lr.fit(X_train_pca, y_train) \n",
    "\n",
    "plot_decision_regions(X_train_pca, y_train, classifier=lr) \n",
    "plt.xlabel('PC_1')\n",
    "plt.ylabel('PC_2') \n",
    "plt.legend(loc='lower left') \n",
    "plt.show()"
   ]
  },
  {
   "cell_type": "markdown",
   "metadata": {},
   "source": [
    "### Kernel PCA theory"
   ]
  },
  {
   "cell_type": "markdown",
   "metadata": {},
   "source": [
    "Предположим, что мы хотим перейти из текущего пространство в некоторое другое бОльшей размерности.\n",
    "\n",
    "$$\\phi : R^d \\to R^k, k >> d$$"
   ]
  },
  {
   "cell_type": "markdown",
   "metadata": {},
   "source": [
    "Тогда нам нужно будет искать собственные вектора от  \n",
    "$$\\frac{1}{n} \\sum_{i}^n \\phi(f_i) \\phi(f_i)^T$$\n",
    "То есть мы предполагаем, что для каждого x, мы должны перевести его в пространство бОльшей размерности, а потом посчитать скалярное произведение для полученных данных. Однако такой подход является очень вычислительно затратным."
   ]
  },
  {
   "cell_type": "markdown",
   "metadata": {},
   "source": [
    "Поэтому тут на помощь нам придет kernel trick. \n",
    "Пусть существует функция $K(f_1, f_2) = <\\phi(f_1), \\phi(f_2)>$. Тогда мы можем не вычислять попарные скалярные произведения, а сразу применить K. \n",
    "\n",
    "Например, $f\\in R^d$ и $f=[f_1,f_2]$, а мы хотим применить следующую функцию $\\phi$ так чтобы  $f^* = [f_1, \\sqrt{2f_1f_2}, f_2]$. \n",
    "Для этой функции $<\\phi(f), \\phi(f)> = f_1^2+2f_1f_2+f_2^2=(f_1+f_2)^2= K(f,f)$"
   ]
  },
  {
   "cell_type": "markdown",
   "metadata": {},
   "source": [
    "### Kernel PCA from scratch"
   ]
  },
  {
   "cell_type": "code",
   "execution_count": 16,
   "metadata": {},
   "outputs": [],
   "source": [
    "from scipy.spatial.distance import pdist, squareform \n",
    "from scipy import exp\n",
    "from scipy.linalg import eigh\n",
    "import numpy as np\n",
    "\n",
    "def rbf_kernel_pca(X, gamma, n_components):\n",
    "    \n",
    "    sq_dists = pdist(X, 'sqeuclidean')\n",
    "    mat_sq_dists = squareform(sq_dists)\n",
    "\n",
    "    K = exp(-gamma * mat_sq_dists)\n",
    "    N = K.shape[0]\n",
    "    one_n = np.ones((N,N)) / N\n",
    "    K = K - one_n @ K - K @ one_n + one_n @ K @ one_n\n",
    "    eigvals, eigvecs = eigh(K)\n",
    "    X_pc = np.column_stack((eigvecs[:, -i] for i in range(1, n_components + 1)))\n",
    "       \n",
    "    return X_pc"
   ]
  },
  {
   "cell_type": "code",
   "execution_count": 17,
   "metadata": {},
   "outputs": [
    {
     "data": {
      "image/png": "[encoded data removed]",
      "text/plain": [
       "<Figure size 432x288 with 1 Axes>"
      ]
     },
     "metadata": {
      "needs_background": "light"
     },
     "output_type": "display_data"
    }
   ],
   "source": [
    "from sklearn.datasets import make_moons\n",
    "\n",
    "X, y = make_moons(n_samples=100, random_state=123) \n",
    "\n",
    "plt.scatter(X[y==0, 0], X[y==0, 1], color='red', marker='^', alpha=0.5) \n",
    "plt.scatter(X[y==1, 0], X[y==1, 1], color='blue', marker='o', alpha=0.5)\n",
    "plt.show()"
   ]
  },
  {
   "cell_type": "code",
   "execution_count": 18,
   "metadata": {},
   "outputs": [
    {
     "data": {
      "image/png": "[encoded data removed]",
      "text/plain": [
       "<Figure size 720x360 with 2 Axes>"
      ]
     },
     "metadata": {
      "needs_background": "light"
     },
     "output_type": "display_data"
    }
   ],
   "source": [
    "from matplotlib.ticker import FormatStrFormatter \n",
    "\n",
    "X_kpca = rbf_kernel_pca(X, gamma=15, n_components=2) \n",
    "\n",
    "fig, (ax1, ax2) = plt.subplots(1, 2, figsize=(10,5))\n",
    "ax1.scatter(X_kpca[y==0, 0], X_kpca[y==0, 1], color='red', marker='^', alpha=0.5) \n",
    "ax1.scatter(X_kpca[y==1, 0], X_kpca[y==1, 1], color='blue', marker='o', alpha=0.5)\n",
    "ax2.scatter(X_kpca[y==0, 0], np.zeros((50,1))+0.02, color='red', marker='^', alpha=0.5)\n",
    "ax2.scatter(X_kpca[y==1, 0], np.zeros((50,1))-0.02, color='blue', marker='o', alpha=0.5)\n",
    "\n",
    "ax1.set_xlabel('PCI')\n",
    "ax1.set_ylabel('РС2')\n",
    "ax2.set_ylim([-1, 1])\n",
    "ax2.set_yticks([])\n",
    "ax2.set_xlabel('PCI')\n",
    "fig.show()"
   ]
  },
  {
   "cell_type": "markdown",
   "metadata": {},
   "source": [
    "Предыдущая функция не поможет нам спроецировать новый набор данных, например, тестовый, в новое пространство. Поэтому нам нужно поменять функцию.\n",
    "В нашем случае $F^TF = \\frac{1}{n}K$. Тогда собственный вектора $a$ будет $\\frac{1}{n}Ka=\\lambda a$."
   ]
  },
  {
   "cell_type": "code",
   "execution_count": 19,
   "metadata": {},
   "outputs": [],
   "source": [
    "def rbf_kernel_pca(X, gamma, n_components):\n",
    "    \n",
    "    sq_dists = pdist(X, 'sqeuclidean')\n",
    "    mat_sq_dists = squareform(sq_dists)\n",
    "    K = exp(-gamma * mat_sq_dists)\n",
    "    \n",
    "    N = K.shape[0]\n",
    "    one_n = np.ones((N,N)) / N\n",
    "                     \n",
    "    K = K - one_n.dot(K) - K.dot(one_n) + one_n.dot(K).dot(one_n)\n",
    "    eigvals, eigvecs = eigh(K)\n",
    "    alphas = np.column_stack((eigvecs[:, -i] for i in range(1, n_components + 1))) \n",
    "    lambdas = [eigvals[-i] for i in range(1,n_components+1)]\n",
    "                     \n",
    "    return alphas, lambdas"
   ]
  },
  {
   "cell_type": "code",
   "execution_count": 20,
   "metadata": {},
   "outputs": [],
   "source": [
    "X, y = make_moons(n_samples=100, random_state=123)\n",
    "alphas, lambdas = rbf_kernel_pca(X, gamma=15, n_components=1)"
   ]
  },
  {
   "cell_type": "code",
   "execution_count": 21,
   "metadata": {},
   "outputs": [],
   "source": [
    "x_new = X[25] #было\n",
    "x_proj = alphas[25] #стало\n",
    "\n",
    "def project_x(X_new, X, gamma, alphas, lambdas): #X_new - что хотим получить в новом подпространстве X - старая матрица\n",
    "    \n",
    "    pair_dist = np.array([np.sum((x_new-row)**2) for row in X]) \n",
    "    k = np.exp(-gamma * pair_dist)\n",
    "    \n",
    "    return k.dot(alphas / lambdas)"
   ]
  },
  {
   "cell_type": "markdown",
   "metadata": {},
   "source": [
    "Проверка"
   ]
  },
  {
   "cell_type": "code",
   "execution_count": 22,
   "metadata": {},
   "outputs": [],
   "source": [
    "x_reproj = project_x(x_new, X, gamma=15, alphas=alphas, lambdas=lambdas)"
   ]
  },
  {
   "cell_type": "code",
   "execution_count": 23,
   "metadata": {},
   "outputs": [
    {
     "name": "stdout",
     "output_type": "stream",
     "text": [
      "[1.8713187  0.00928245] [0.07877284]\n"
     ]
    }
   ],
   "source": [
    "print(x_new, x_proj)"
   ]
  },
  {
   "cell_type": "code",
   "execution_count": 24,
   "metadata": {},
   "outputs": [
    {
     "data": {
      "text/plain": [
       "array([0.07877284])"
      ]
     },
     "execution_count": 24,
     "metadata": {},
     "output_type": "execute_result"
    }
   ],
   "source": [
    "x_reproj"
   ]
  },
  {
   "cell_type": "markdown",
   "metadata": {},
   "source": [
    "### Kernel PCA from sklearn"
   ]
  },
  {
   "cell_type": "code",
   "execution_count": 25,
   "metadata": {},
   "outputs": [],
   "source": [
    "from sklearn.decomposition import KernelPCA\n",
    "\n",
    "X, y = make_moons(n_samples=100, random_state=123)\n",
    "\n",
    "scikit_kpca = KernelPCA(n_components=2, kernel='rbf', gamma=15) \n",
    "X_skernpca = scikit_kpca.fit_transform(X)"
   ]
  },
  {
   "cell_type": "code",
   "execution_count": 27,
   "metadata": {},
   "outputs": [
    {
     "data": {
      "image/png": "[encoded data removed]",
      "text/plain": [
       "<Figure size 432x288 with 1 Axes>"
      ]
     },
     "metadata": {
      "needs_background": "light"
     },
     "output_type": "display_data"
    }
   ],
   "source": [
    "plt.scatter(X_skernpca[y==0, 0], X_skernpca[y==0, 1], color='red', marker='^', alpha=0.5)\n",
    "plt.scatter(X_skernpca[y==1, 0], X_skernpca[y==1, 1], color='blue', marker='o', alpha=0.5)\n",
    "plt.xlabel('PCI') \n",
    "plt.ylabel('PC2') \n",
    "plt.show()"
   ]
  },
  {
   "cell_type": "code",
   "execution_count": null,
   "metadata": {},
   "outputs": [],
   "source": []
  }
 ],
 "metadata": {
  "kernelspec": {
   "display_name": "Python 3",
   "language": "python",
   "name": "python3"
  },
  "language_info": {
   "codemirror_mode": {
    "name": "ipython",
    "version": 3
   },
   "file_extension": ".py",
   "mimetype": "text/x-python",
   "name": "python",
   "nbconvert_exporter": "python",
   "pygments_lexer": "ipython3",
   "version": "3.7.6"
  }
 },
 "nbformat": 4,
 "nbformat_minor": 2
}
