{
 "cells": [
  {
   "cell_type": "markdown",
   "metadata": {},
   "source": [
    "# Tuning parameters:\n",
    "* pipline\n",
    "* parameters tuning\n",
    "* validation curve: find appropriate model complexity \n",
    "* training curve: find good amount of data"
   ]
  },
  {
   "cell_type": "code",
   "execution_count": 2,
   "metadata": {},
   "outputs": [],
   "source": [
    "import pandas as pd\n",
    "import numpy as np\n",
    "\n",
    "from sklearn.preprocessing import LabelEncoder\n",
    "from sklearn.preprocessing import StandardScaler \n",
    "from sklearn.decomposition import PCA\n",
    "from sklearn.linear_model import LogisticRegression, LogisticRegressionCV, SGDClassifier\n",
    "from sklearn.pipeline import Pipeline\n",
    "from sklearn.model_selection import cross_val_score, StratifiedKFold, learning_curve, validation_curve\n",
    "from sklearn.model_selection import train_test_split, GridSearchCV\n",
    "from sklearn.metrics import accuracy_score\n",
    "\n",
    "import warnings\n",
    "warnings.filterwarnings('ignore')\n",
    "\n",
    "from matplotlib import pyplot as plt\n",
    "%matplotlib inline\n",
    "import seaborn as sns"
   ]
  },
  {
   "cell_type": "code",
   "execution_count": 3,
   "metadata": {},
   "outputs": [],
   "source": [
    "df = pd.read_csv('../Data/wisconsin_cancer.data', header=None)\n",
    "\n",
    "X = df.iloc[:, 2:].values\n",
    "y = df.iloc[:, 1].values\n",
    "\n",
    "enc = LabelEncoder()\n",
    "y = enc.fit_transform(y)\n",
    "\n",
    "X_train, X_test, y_train, y_test = train_test_split(X, y, test_size=0.20, random_state=17)"
   ]
  },
  {
   "cell_type": "markdown",
   "metadata": {},
   "source": [
    "## Pipline"
   ]
  },
  {
   "cell_type": "code",
   "execution_count": 22,
   "metadata": {},
   "outputs": [
    {
     "name": "stdout",
     "output_type": "stream",
     "text": [
      "Accuracy on test: 0.965\n"
     ]
    }
   ],
   "source": [
    "pipe_lr = Pipeline([('scl', StandardScaler()), ('pca', PCA(n_components=2)), ('lr', LogisticRegression(random_state=17))]) \n",
    "pipe_lr.fit(X_train, y_train)\n",
    "print('Accuracy on test: %.3f' % pipe_lr.score(X_test, y_test))"
   ]
  },
  {
   "cell_type": "markdown",
   "metadata": {},
   "source": [
    "## Train-Validate-Test"
   ]
  },
  {
   "cell_type": "markdown",
   "metadata": {},
   "source": [
    "**Train-Test**\n",
    "\n",
    "The first approach for model validation is simply separate dataset to the training and test. But this approach despite attractive simplicity has problems:\n",
    "* the result directly depends on the separation on training and test sets\n",
    "* if we repeat tunning several times, the model learns the test data set and can overfit\n",
    "\n",
    "\n",
    "\n",
    "**Train-Validate-Test**\n",
    "\n",
    "Idea is very similar, train model on train dataset, tune parameters on validation dataset, check results on test dataset. Problem of this approach the same: \n",
    "* the result directly depends on the separation on training validation and test sets\n",
    "\n",
    "\n",
    "\n",
    "**K-Fold cross-validation**\n",
    "\n",
    "Mentioned before problems can be solved with *K-Fold cross-validation*. \n",
    "Idea of methos is foolowing:\n",
    "* separate data into k groups of the same length\n",
    "* k-1 of them will be used at each iteration for training and one (k-th) for testing\n",
    "* training will be done k times, thus we get k models trained on different part of data\n",
    "* the results are averaged over all obtained model\n",
    "* in practice, k is taken from 3 to 10\n",
    "\n",
    "**Leave-one-out (LOO)**\n",
    "\n",
    "*LOO* is a variation of K-Fold cross-validation, but it is used, when we have very small amount of data. $k$ is equal to the length of data, so that only one training sample is used for testing during each iteration.\n",
    "\n",
    "**Stratified K-Fold cross-validation**\n",
    "\n",
    "*Stratified K-Fold cross-validation* - is a variation of K-Fold cross-validation where each subset contains approximately the same percentage of samples of each target class."
   ]
  },
  {
   "cell_type": "markdown",
   "metadata": {},
   "source": [
    "*General function*"
   ]
  },
  {
   "cell_type": "code",
   "execution_count": 43,
   "metadata": {},
   "outputs": [
    {
     "name": "stdout",
     "output_type": "stream",
     "text": [
      "Mean score 0.945.\n"
     ]
    }
   ],
   "source": [
    "from sklearn.model_selection import StratifiedKFold \n",
    "\n",
    "kfold = StratifiedKFold(n_splits=10, random_state=17)\n",
    "scores = []\n",
    "\n",
    "for train_index, test_index in kfold.split(X_train, y_train):\n",
    "    pipe_lr.fit(X_train[train_index], y_train[train_index])\n",
    "    score = pipe_lr.score(X_train[test_index], y_train[test_index]) \n",
    "    scores.append(score)\n",
    "    \n",
    "print(f'Mean score {round(np.mean(scores),3)}.')"
   ]
  },
  {
   "cell_type": "code",
   "execution_count": 44,
   "metadata": {},
   "outputs": [
    {
     "name": "stdout",
     "output_type": "stream",
     "text": [
      "Mean score 0.945.\n"
     ]
    }
   ],
   "source": [
    "from sklearn.model_selection import cross_val_score \n",
    "\n",
    "scores = cross_val_score(estimator=pipe_lr,X=X_train, y=y_train, cv=10, n_jobs=-1)\n",
    "\n",
    "print(f'Mean score {round(np.mean(scores),3)}.')"
   ]
  },
  {
   "cell_type": "markdown",
   "metadata": {},
   "source": [
    "*Function for logistic regression*"
   ]
  },
  {
   "cell_type": "code",
   "execution_count": 51,
   "metadata": {},
   "outputs": [
    {
     "name": "stderr",
     "output_type": "stream",
     "text": [
      "[Parallel(n_jobs=-1)]: Using backend LokyBackend with 4 concurrent workers.\n"
     ]
    },
    {
     "name": "stdout",
     "output_type": "stream",
     "text": [
      "Best parameter5.514205739240302\n"
     ]
    },
    {
     "name": "stderr",
     "output_type": "stream",
     "text": [
      "[Parallel(n_jobs=-1)]: Done   5 out of   5 | elapsed:   13.6s finished\n"
     ]
    }
   ],
   "source": [
    "skf = StratifiedKFold(n_splits=5, shuffle=True, random_state=17)\n",
    "\n",
    "c_values = np.logspace(-10, 10, 500)\n",
    "\n",
    "logit_searcher = LogisticRegressionCV(Cs=c_values, cv=skf, verbose=1, n_jobs=-1)\n",
    "logit_searcher.fit(X_train, y_train)\n",
    "\n",
    "c_best = c_values[np.argmax(np.mean(np.squeeze(list(logit_searcher.scores_.values()), axis=0), axis=0))]\n",
    "\n",
    "print(f'Best parameter{c_best}')"
   ]
  },
  {
   "cell_type": "code",
   "execution_count": 54,
   "metadata": {},
   "outputs": [
    {
     "name": "stdout",
     "output_type": "stream",
     "text": [
      "Mean score 0.96\n"
     ]
    }
   ],
   "source": [
    "print(f'Mean score {round(max(np.mean(np.squeeze(list(logit_searcher.scores_.values()), axis=0), axis=0)),3)}') "
   ]
  },
  {
   "cell_type": "markdown",
   "metadata": {},
   "source": [
    "## Tuning parameters: grid search"
   ]
  },
  {
   "cell_type": "markdown",
   "metadata": {},
   "source": [
    "There are some special functions which can help us to find good hyperparameters of the model."
   ]
  },
  {
   "cell_type": "code",
   "execution_count": 58,
   "metadata": {},
   "outputs": [
    {
     "name": "stdout",
     "output_type": "stream",
     "text": [
      "Best score in validation: 0.9758241758241759, \n",
      "Best parameters: {'sgd_logit__alpha': 0.012742749857031334}, \n",
      "Score on hold-out data: 0.9736842105263158\n"
     ]
    }
   ],
   "source": [
    "sgd_logit = SGDClassifier(loss='log', n_jobs=-1, random_state=17)\n",
    "\n",
    "logit_pipe = Pipeline([('scaler', StandardScaler()), ('sgd_logit', sgd_logit)])\n",
    "\n",
    "alphas = {'sgd_logit__alpha': np.logspace(-2, 0, 20)}\n",
    "\n",
    "grid_logit_pipe = GridSearchCV(logit_pipe, alphas, cv=5, n_jobs=-1)\n",
    "grid_logit_pipe.fit(X_train, y_train)\n",
    "\n",
    "print(f'Best score in validation: {grid_logit_pipe.best_score_}, \\nBest parameters: {grid_logit_pipe.best_params_}, \\nScore on hold-out data: {accuracy_score(grid_logit_pipe.best_estimator_.predict(X_test), y_test)}')"
   ]
  },
  {
   "cell_type": "markdown",
   "metadata": {},
   "source": [
    "## Validation curve: tune the complexity of the model\n",
    "\n",
    "The validation curve is a graph showing the result on the training and validation sets, depending on the complexity of the model:\n",
    "\n",
    "* if two curves are close together and both errors are large, this is a sign of under-learning\n",
    "* if two curves are far apart, this is an indicator of overfitting"
   ]
  },
  {
   "cell_type": "code",
   "execution_count": 67,
   "metadata": {},
   "outputs": [
    {
     "data": {
      "image/png": "[encoded data removed]",
      "text/plain": [
       "<Figure size 432x288 with 1 Axes>"
      ]
     },
     "metadata": {
      "needs_background": "light"
     },
     "output_type": "display_data"
    }
   ],
   "source": [
    "alphas_2 = np.logspace(-2, 0, 20)\n",
    "\n",
    "val_train, val_test = validation_curve(logit_pipe, X_train, y_train, 'sgd_logit__alpha', alphas_2, cv=5, scoring='roc_auc')\n",
    "\n",
    "def plot_with_err(x, data, **kwargs):\n",
    "    mu, std = data.mean(1), data.std(1)\n",
    "    lines = plt.plot(x, mu, '-', **kwargs)\n",
    "    plt.fill_between(x, mu - std, mu + std, edgecolor='none',facecolor=lines[0].get_color(), alpha=0.2)\n",
    "    \n",
    "plot_with_err(alphas_2, val_train, label='training scores')\n",
    "plot_with_err(alphas_2, val_test, label='validation scores')\n",
    "plt.xlabel(r'$\\alpha$'); plt.ylabel('ROC AUC')\n",
    "plt.legend()\n",
    "plt.show();"
   ]
  },
  {
   "cell_type": "markdown",
   "metadata": {},
   "source": [
    "What conclusion can be made in our case? The distance between the curves does not change, which means there is no overfitting here. Moreover, with an increase in the parameter, the error increases in both samples, which indicates under-training. Thus, a parameter close to zero is suitable for us. Let's consider this piece in more detail."
   ]
  },
  {
   "cell_type": "code",
   "execution_count": 75,
   "metadata": {},
   "outputs": [
    {
     "data": {
      "image/png": "[encoded data removed]",
      "text/plain": [
       "<Figure size 432x288 with 1 Axes>"
      ]
     },
     "metadata": {
      "needs_background": "light"
     },
     "output_type": "display_data"
    }
   ],
   "source": [
    "alphas_2 = np.logspace(-2, -0.5, 20)\n",
    "\n",
    "val_train, val_test = validation_curve(logit_pipe, X_train, y_train, 'sgd_logit__alpha', alphas_2, cv=5, scoring='roc_auc')\n",
    "    \n",
    "plot_with_err(alphas_2, val_train, label='training scores')\n",
    "plot_with_err(alphas_2, val_test, label='validation scores')\n",
    "plt.xlabel(r'$\\alpha$'); plt.ylabel('ROC AUC')\n",
    "plt.legend()\n",
    "plt.ylim([0.98, 1])\n",
    "plt.show;"
   ]
  },
  {
   "cell_type": "markdown",
   "metadata": {},
   "source": [
    "## Learning curve: tune the amount of data\n",
    "\n",
    "The learning curve is a graph showing the results on validation and training subsets depending on the number of observations:\n",
    "\n",
    "* If the curves converge, adding new data will not help - you need to change the complexity of the model.\n",
    "* If the curves have not yet converged, adding new data can improve the result."
   ]
  },
  {
   "cell_type": "code",
   "execution_count": 83,
   "metadata": {},
   "outputs": [],
   "source": [
    "train_sizes = np.linspace(0.05, 1, 20)\n",
    "logit_pipe = Pipeline([('scaler', StandardScaler()), ('sgd_logit', SGDClassifier(n_jobs=-1, random_state=17, alpha=0.02))])\n",
    "N_train, val_train, val_test = learning_curve(logit_pipe, X_train, y_train, train_sizes=train_sizes, cv=5,scoring='roc_auc')"
   ]
  },
  {
   "cell_type": "code",
   "execution_count": 80,
   "metadata": {},
   "outputs": [
    {
     "data": {
      "image/png": "[encoded data removed]",
      "text/plain": [
       "<Figure size 432x288 with 1 Axes>"
      ]
     },
     "metadata": {
      "needs_background": "light"
     },
     "output_type": "display_data"
    }
   ],
   "source": [
    "plot_with_err(N_train, val_train, label='training scores')\n",
    "plot_with_err(N_train, val_test, label='validation scores')\n",
    "plt.xlabel('Training Set Size'); plt.ylabel('AUC')\n",
    "plt.legend()\n",
    "plt.show;"
   ]
  },
  {
   "cell_type": "markdown",
   "metadata": {},
   "source": [
    "In our case, the model was first under-learned, then gradually the curves converge, which means adding data can't  help any more in this case."
   ]
  },
  {
   "cell_type": "code",
   "execution_count": null,
   "metadata": {},
   "outputs": [],
   "source": []
  }
 ],
 "metadata": {
  "kernelspec": {
   "display_name": "Python 3",
   "language": "python",
   "name": "python3"
  },
  "language_info": {
   "codemirror_mode": {
    "name": "ipython",
    "version": 3
   },
   "file_extension": ".py",
   "mimetype": "text/x-python",
   "name": "python",
   "nbconvert_exporter": "python",
   "pygments_lexer": "ipython3",
   "version": "3.7.6"
  }
 },
 "nbformat": 4,
 "nbformat_minor": 2
}
