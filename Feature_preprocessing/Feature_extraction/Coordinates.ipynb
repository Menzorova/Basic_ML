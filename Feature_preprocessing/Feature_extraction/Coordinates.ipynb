{
 "cells": [
  {
   "cell_type": "markdown",
   "metadata": {},
   "source": [
    "# Coordinates"
   ]
  },
  {
   "cell_type": "markdown",
   "metadata": {},
   "source": [
    "## Decode adress from coordinates \n",
    "OpenStrettMap, GoogleMaps, reverse_geocoder"
   ]
  },
  {
   "cell_type": "code",
   "execution_count": 18,
   "metadata": {},
   "outputs": [
    {
     "data": {
      "text/plain": [
       "[OrderedDict([('lat', '40.74482'),\n",
       "              ('lon', '-73.94875'),\n",
       "              ('name', 'Long Island City'),\n",
       "              ('admin1', 'New York'),\n",
       "              ('admin2', 'Queens County'),\n",
       "              ('cc', 'US')])]"
      ]
     },
     "execution_count": 18,
     "metadata": {},
     "output_type": "execute_result"
    }
   ],
   "source": [
    "import pandas as pd\n",
    "import numpy as np\n",
    "import reverse_geocoder as revgc\n",
    "import matplotlib.pyplot as plt\n",
    "import seaborn as sns\n",
    "from pylab import rcParams\n",
    "%matplotlib inline\n",
    "\n",
    "latitude = 40.748817\n",
    "longitude = -73.985428\n",
    "\n",
    "revgc.search((latitude, longitude))"
   ]
  },
  {
   "cell_type": "markdown",
   "metadata": {},
   "source": [
    "## Direct use of coordinates"
   ]
  },
  {
   "cell_type": "markdown",
   "metadata": {},
   "source": [
    "Consider data with taxi trips. We have coordinated of start point and coordinates of dropoff point."
   ]
  },
  {
   "cell_type": "code",
   "execution_count": 6,
   "metadata": {},
   "outputs": [],
   "source": [
    "data = pd.read_csv('../../Data/taxi/train.csv')"
   ]
  },
  {
   "cell_type": "code",
   "execution_count": 7,
   "metadata": {},
   "outputs": [],
   "source": [
    "y = data[\"trip_duration\"]\n",
    "X = data.drop(columns=[\"trip_duration\"])"
   ]
  },
  {
   "cell_type": "markdown",
   "metadata": {},
   "source": [
    "### Distance between points"
   ]
  },
  {
   "cell_type": "code",
   "execution_count": 9,
   "metadata": {},
   "outputs": [],
   "source": [
    "from haversine import haversine\n",
    "\n",
    "distance = []\n",
    "for i in range(len(data)):\n",
    "    pickup = tuple((data['pickup_latitude'][i], data['pickup_longitude'][i]))\n",
    "    dropoff = tuple((data['dropoff_latitude'][i], data['dropoff_longitude'][i]))\n",
    "    distance.append(haversine(pickup, dropoff))"
   ]
  },
  {
   "cell_type": "code",
   "execution_count": 11,
   "metadata": {},
   "outputs": [],
   "source": [
    "data['haversin'] = distance"
   ]
  },
  {
   "cell_type": "markdown",
   "metadata": {},
   "source": [
    "### Distance to special points"
   ]
  },
  {
   "cell_type": "markdown",
   "metadata": {},
   "source": [
    "For example, we can mark if the trip was started or ended at the airport."
   ]
  },
  {
   "cell_type": "code",
   "execution_count": 12,
   "metadata": {},
   "outputs": [],
   "source": [
    "laguard_airport_coord= tuple((40.777250, -73.872611))\n",
    "fkenned_airport_coord= tuple((40.6413111, -73.7781391)) "
   ]
  },
  {
   "cell_type": "code",
   "execution_count": 14,
   "metadata": {},
   "outputs": [],
   "source": [
    "data['pickup_coordinates'] = data[['pickup_latitude', 'pickup_longitude']].apply(tuple, axis=1)\n",
    "data['dropoff_coordinates'] = data[['dropoff_latitude', 'dropoff_longitude']].apply(tuple, axis=1)\n",
    "\n",
    "data['laguard_haversine_pickup'] = [haversine(data['pickup_coordinates'][i], laguard_airport_coord) for i in range(len(data))] \n",
    "data['laguard_haversine_dropoff'] = [haversine(data['dropoff_coordinates'][i], laguard_airport_coord) for i in range(len(data))]\n",
    "data['fkenned_haversine_pickup'] = [haversine(data['pickup_coordinates'][i], fkenned_airport_coord) for i in range(len(data))]\n",
    "data['fkenned_haversine_dropoff'] = [haversine(data['dropoff_coordinates'][i], fkenned_airport_coord) for i in range(len(data))]"
   ]
  },
  {
   "cell_type": "code",
   "execution_count": 19,
   "metadata": {},
   "outputs": [
    {
     "name": "stderr",
     "output_type": "stream",
     "text": [
      "/usr/local/lib/python3.7/site-packages/ipykernel_launcher.py:11: UserWarning: Matplotlib is currently using module://ipykernel.pylab.backend_inline, which is a non-GUI backend, so cannot show the figure.\n",
      "  # This is added back by InteractiveShellApp.init_path()\n"
     ]
    },
    {
     "data": {
      "image/png": "[encoded data removed]",
      "text/plain": [
       "<Figure size 432x288 with 2 Axes>"
      ]
     },
     "metadata": {
      "needs_background": "light"
     },
     "output_type": "display_data"
    }
   ],
   "source": [
    "fig, (ax1, ax2) = plt.subplots(1, 2)\n",
    "\n",
    "ax1.hist(data[data['laguard_haversine_dropoff'] <= 1.5]['laguard_haversine_dropoff'])\n",
    "ax1.set_title('Distance to dropoff')\n",
    "\n",
    "ax2.hist(data[data['laguard_haversine_pickup'] <= 1.5]['laguard_haversine_pickup'])\n",
    "ax2.set_title('Distance to pickup')\n",
    "\n",
    "fig.suptitle('La Guardia')\n",
    "\n",
    "fig.show()"
   ]
  },
  {
   "cell_type": "code",
   "execution_count": 20,
   "metadata": {},
   "outputs": [
    {
     "name": "stderr",
     "output_type": "stream",
     "text": [
      "/usr/local/lib/python3.7/site-packages/ipykernel_launcher.py:11: UserWarning: Matplotlib is currently using module://ipykernel.pylab.backend_inline, which is a non-GUI backend, so cannot show the figure.\n",
      "  # This is added back by InteractiveShellApp.init_path()\n"
     ]
    },
    {
     "data": {
      "image/png": "[encoded data removed]",
      "text/plain": [
       "<Figure size 432x288 with 2 Axes>"
      ]
     },
     "metadata": {
      "needs_background": "light"
     },
     "output_type": "display_data"
    }
   ],
   "source": [
    "fig, (ax1, ax2) = plt.subplots(1, 2)\n",
    "\n",
    "ax1.hist(data[data['fkenned_haversine_dropoff'] <= 1]['fkenned_haversine_dropoff'])\n",
    "ax1.set_title('Distance to dropoff')\n",
    "\n",
    "ax2.hist(data[data['fkenned_haversine_pickup'] <= 1]['fkenned_haversine_pickup'])\n",
    "ax2.set_title('Distance to pickup')\n",
    "\n",
    "fig.suptitle('John F Kennedy')\n",
    "\n",
    "fig.show()"
   ]
  },
  {
   "cell_type": "code",
   "execution_count": 21,
   "metadata": {},
   "outputs": [],
   "source": [
    "data['laguard_pickup_binary'] = np.where(data['laguard_haversine_pickup'] <= 0.6,1,0) \n",
    "data['laguard_dropoff_binary'] = np.where(data['laguard_haversine_dropoff'] <= 0.6,1,0) \n",
    "data['fkenned_pickup_binary'] = np.where(data['fkenned_haversine_pickup'] <= 1,1,0) \n",
    "data['fkenned_dropoff_binary'] = np.where(data['fkenned_haversine_dropoff'] <= 1,1,0) "
   ]
  },
  {
   "cell_type": "markdown",
   "metadata": {},
   "source": [
    "### Split space into areas\n",
    "\n",
    "for example split dense cluster of points into squares. Create new feature trip started in that point, trip ended in that point."
   ]
  },
  {
   "cell_type": "code",
   "execution_count": 27,
   "metadata": {},
   "outputs": [
    {
     "data": {
      "image/png": "[encoded data removed]",
      "text/plain": [
       "<Figure size 432x288 with 1 Axes>"
      ]
     },
     "metadata": {
      "needs_background": "light"
     },
     "output_type": "display_data"
    }
   ],
   "source": [
    "from sklearn.cluster import DBSCAN\n",
    "\n",
    "data = data.sample(5000)\n",
    "\n",
    "\n",
    "data = data[(data['pickup_longitude'] >= -76) & (data['pickup_longitude'] <= -73.7)]\n",
    "data = data[(data['pickup_latitude'] >= 40.5) & (data['pickup_latitude'] <= 40.9)]\n",
    "data.reset_index(drop=True, inplace=True)\n",
    "\n",
    "plt.scatter(data['pickup_latitude'], data['pickup_longitude']);"
   ]
  },
  {
   "cell_type": "markdown",
   "metadata": {},
   "source": [
    "Find dense region"
   ]
  },
  {
   "cell_type": "code",
   "execution_count": 30,
   "metadata": {},
   "outputs": [
    {
     "data": {
      "image/png": "[encoded data removed]",
      "text/plain": [
       "<Figure size 432x288 with 1 Axes>"
      ]
     },
     "metadata": {
      "needs_background": "light"
     },
     "output_type": "display_data"
    }
   ],
   "source": [
    "clustering = DBSCAN(eps=0.02, min_samples=1900).fit(data[['pickup_latitude', 'pickup_longitude']])\n",
    "y  = clustering.labels_\n",
    "\n",
    "plt.scatter(data['pickup_latitude'], data['pickup_longitude'], c=y);"
   ]
  },
  {
   "cell_type": "code",
   "execution_count": 33,
   "metadata": {},
   "outputs": [],
   "source": [
    "dense_region = data.loc[np.where(y==0)]\n",
    "\n",
    "x_grid = np.linspace(dense_region['pickup_latitude'].min(), dense_region['pickup_latitude'].max(), num=3)\n",
    "y_grid = np.linspace(dense_region['pickup_longitude'].min(), dense_region['pickup_longitude'].max(), num=3)\n",
    "\n",
    "inds_x = np.digitize(dense_region['pickup_latitude'], x_grid)\n",
    "inds_y = np.digitize(dense_region['pickup_longitude'], y_grid)\n",
    "\n",
    "dense_region['pickup_square'] = [\"\".join(map(str, item)) for item in zip(inds_x, inds_y)]\n",
    "data['pickup_square'] = [dense_region['pickup_square'][i] if i in dense_region.index else '00' for i in range(len(data))]"
   ]
  },
  {
   "cell_type": "code",
   "execution_count": 34,
   "metadata": {},
   "outputs": [
    {
     "data": {
      "text/plain": [
       "0       21\n",
       "1       00\n",
       "2       11\n",
       "3       12\n",
       "4       21\n",
       "        ..\n",
       "4995    12\n",
       "4996    00\n",
       "4997    12\n",
       "4998    22\n",
       "4999    00\n",
       "Name: pickup_square, Length: 5000, dtype: object"
      ]
     },
     "execution_count": 34,
     "metadata": {},
     "output_type": "execute_result"
    }
   ],
   "source": [
    "data['pickup_square']"
   ]
  },
  {
   "cell_type": "markdown",
   "metadata": {},
   "source": [
    "### Common knowledge"
   ]
  },
  {
   "cell_type": "markdown",
   "metadata": {},
   "source": [
    "To create features we also can use common knowledge:\n",
    "* proximity to the metro\n",
    "* number of storeys\n",
    "* distance to the nearest store \n",
    "* number of ATMs\n",
    "* height above sea level\n",
    "\n",
    "If there are coordinates of the end and the beginning of the route we can use followinf features:\n",
    "* the number of turns along with the ratio of left and right\n",
    "* the number of traffic lights, junctions, bridges\n",
    "* complexity of the road"
   ]
  },
  {
   "cell_type": "code",
   "execution_count": null,
   "metadata": {},
   "outputs": [],
   "source": []
  }
 ],
 "metadata": {
  "kernelspec": {
   "display_name": "Python 3",
   "language": "python",
   "name": "python3"
  },
  "language_info": {
   "codemirror_mode": {
    "name": "ipython",
    "version": 3
   },
   "file_extension": ".py",
   "mimetype": "text/x-python",
   "name": "python",
   "nbconvert_exporter": "python",
   "pygments_lexer": "ipython3",
   "version": "3.7.6"
  }
 },
 "nbformat": 4,
 "nbformat_minor": 2
}
